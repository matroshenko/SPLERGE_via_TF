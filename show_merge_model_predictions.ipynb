{
 "cells": [
  {
   "cell_type": "code",
   "execution_count": 1,
   "id": "61224175",
   "metadata": {},
   "outputs": [],
   "source": [
    "import tensorflow as tf\n",
    "import tensorflow_datasets as tfds\n",
    "import PIL\n",
    "from matplotlib import pyplot as plt\n",
    "\n",
    "from merge.evaluation import load_model\n",
    "import datasets.ICDAR.ICDAR\n",
    "import datasets.FinTabNet.FinTabNet\n",
    "from utils.visualization import create_merge_result_image"
   ]
  },
  {
   "cell_type": "code",
   "execution_count": null,
   "id": "c5ea621e",
   "metadata": {},
   "outputs": [],
   "source": [
    "m = load_model('checkpoints/merge_icdar.ckpt', False)"
   ]
  },
  {
   "cell_type": "code",
   "execution_count": null,
   "id": "ee0016c9",
   "metadata": {},
   "outputs": [],
   "source": [
    "ds = tfds.load('icdar_merge', split='test')\n",
    "ds = ds.shuffle(128, seed=42)"
   ]
  },
  {
   "cell_type": "code",
   "execution_count": null,
   "id": "4ea4a4c1",
   "metadata": {},
   "outputs": [],
   "source": [
    "def get_predictions(ds_element):\n",
    "    input_keys = [\n",
    "        'image',\n",
    "        'horz_split_points_probs',\n",
    "        'vert_split_points_probs',\n",
    "        'horz_split_points_binary',\n",
    "        'vert_split_points_binary'\n",
    "    ]\n",
    "    inputs = {key: tf.expand_dims(ds_element[key], 0) for key in input_keys}\n",
    "    \n",
    "    outputs = m(inputs)\n",
    "    return (\n",
    "        outputs['h_positions'].numpy(),\n",
    "        outputs['v_positions'].numpy(),\n",
    "        outputs['cells_grid_rects'].numpy()\n",
    "    )"
   ]
  },
  {
   "cell_type": "code",
   "execution_count": null,
   "id": "cf9d1068",
   "metadata": {},
   "outputs": [],
   "source": [
    "fig, axes = plt.subplots(5, 2, figsize=(16,32))\n",
    "\n",
    "for element, ax in zip(ds.take(10), axes.flat):\n",
    "    h_positions, v_positions, cells = get_predictions(element)\n",
    "    image = PIL.Image.fromarray(element['image'].numpy())\n",
    "    debug_image = create_merge_result_image(\n",
    "        image, h_positions, v_positions, cells)\n",
    "    \n",
    "    ax.get_xaxis().set_visible(False)\n",
    "    ax.get_yaxis().set_visible(False)\n",
    "    ax.imshow(debug_image)\n",
    "fig.subplots_adjust(wspace=0.1, hspace=0.1)\n",
    "\n",
    "plt.savefig('images/merge_model_predictions.png', bbox_inches='tight')\n",
    "plt.show()"
   ]
  }
 ],
 "metadata": {
  "kernelspec": {
   "display_name": "Python 3 (ipykernel)",
   "language": "python",
   "name": "python3"
  },
  "language_info": {
   "codemirror_mode": {
    "name": "ipython",
    "version": 3
   },
   "file_extension": ".py",
   "mimetype": "text/x-python",
   "name": "python",
   "nbconvert_exporter": "python",
   "pygments_lexer": "ipython3",
   "version": "3.9.10"
  }
 },
 "nbformat": 4,
 "nbformat_minor": 5
}
