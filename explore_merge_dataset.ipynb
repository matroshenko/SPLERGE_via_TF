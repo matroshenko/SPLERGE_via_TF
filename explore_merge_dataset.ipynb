{
 "cells": [
  {
   "cell_type": "code",
   "execution_count": null,
   "id": "615d6ea8",
   "metadata": {},
   "outputs": [],
   "source": [
    "%matplotlib inline "
   ]
  },
  {
   "cell_type": "code",
   "execution_count": null,
   "id": "bca32c3e",
   "metadata": {},
   "outputs": [],
   "source": [
    "import tensorflow_datasets as tfds\n",
    "import tensorflow as tf\n",
    "from matplotlib import pyplot as plt\n",
    "import PIL\n",
    "\n",
    "from datasets.ICDAR.ICDAR import IcdarMerge\n",
    "from utils.visualization import create_merge_result_image\n",
    "from table.markup_table import Table\n",
    "\n",
    "ops_module = tf.load_op_library('ops/ops.so')"
   ]
  },
  {
   "cell_type": "code",
   "execution_count": null,
   "id": "59a6993e",
   "metadata": {},
   "outputs": [],
   "source": [
    "ds = tfds.load('icdar_merge', split='train')\n",
    "ds = ds.shuffle(128, seed=42)"
   ]
  },
  {
   "cell_type": "code",
   "execution_count": null,
   "id": "7a0a0b9d",
   "metadata": {},
   "outputs": [],
   "source": [
    "def has_cell_to_merge(element):\n",
    "    return tf.reduce_any(element['merge_right_mask']) or tf.reduce_any(element['merge_down_mask'])\n",
    "\n",
    "num_of_tables_with_spanning_cells = ds.reduce(\n",
    "    0, lambda state, element: state + tf.cast(has_cell_to_merge(element), tf.int32))\n",
    "print('Tables with spanning cells: {}%'.format(num_of_tables_with_spanning_cells/len(ds)))"
   ]
  },
  {
   "cell_type": "code",
   "execution_count": null,
   "id": "eb713a2a",
   "metadata": {},
   "outputs": [],
   "source": [
    "fig, axes = plt.subplots(10, 2, figsize=(16,32))\n",
    "\n",
    "for element, ax in zip(ds.take(20), axes.flat):\n",
    "    table_image = PIL.Image.fromarray(element['image'].numpy())\n",
    "    h_positions = ops_module.intervals_centers(element['horz_split_points_binary'])\n",
    "    v_positions = ops_module.intervals_centers(element['vert_split_points_binary'])\n",
    "    cells = ops_module.infer_cells_grid_rects(\n",
    "        element['merge_right_mask'], element['merge_down_mask'])\n",
    "    debug_image = create_merge_result_image(\n",
    "        table_image, \n",
    "        h_positions.numpy(), \n",
    "        v_positions.numpy(),\n",
    "        cells.numpy()\n",
    "    )\n",
    "    table_id = Table.from_tensor(element['markup_table']).id\n",
    "    ax.set_title('table_id = {}'.format(table_id))\n",
    "    ax.get_xaxis().set_visible(False)\n",
    "    ax.get_yaxis().set_visible(False)\n",
    "    ax.imshow(debug_image)\n",
    "plt.show()"
   ]
  }
 ],
 "metadata": {
  "kernelspec": {
   "display_name": "Python 3 (ipykernel)",
   "language": "python",
   "name": "python3"
  },
  "language_info": {
   "codemirror_mode": {
    "name": "ipython",
    "version": 3
   },
   "file_extension": ".py",
   "mimetype": "text/x-python",
   "name": "python",
   "nbconvert_exporter": "python",
   "pygments_lexer": "ipython3",
   "version": "3.9.10"
  }
 },
 "nbformat": 4,
 "nbformat_minor": 5
}
